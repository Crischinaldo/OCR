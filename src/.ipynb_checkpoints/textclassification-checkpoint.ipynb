{
 "cells": [
  {
   "cell_type": "code",
   "execution_count": 23,
   "metadata": {},
   "outputs": [],
   "source": [
    "import pytesseract\n",
    "from pytesseract import Output\n",
    "from PIL import Image\n",
    "import cv2\n",
    "import re\n",
    "import numpy as np\n",
    "import glob\n",
    "import json\n",
    "import pandas as pd\n",
    "import sklearn\n",
    "from sklearn.utils import shuffle\n",
    "import seaborn as sns\n",
    "import matplotlib.pyplot as plt\n",
    "import re, string, unicodedata\n",
    "import nltk\n",
    "import inflect\n",
    "from bs4 import BeautifulSoup\n",
    "from nltk import word_tokenize, sent_tokenize\n",
    "from nltk.corpus import stopwords\n",
    "from sklearn.naive_bayes import MultinomialNB\n",
    "from sklearn.pipeline import Pipeline\n",
    "from sklearn.decomposition import PCA\n",
    "from sklearn.feature_extraction import text "
   ]
  },
  {
   "cell_type": "code",
   "execution_count": 2,
   "metadata": {},
   "outputs": [
    {
     "name": "stderr",
     "output_type": "stream",
     "text": [
      "[nltk_data] Downloading package stopwords to\n",
      "[nltk_data]     C:\\Users\\Chrus\\AppData\\Roaming\\nltk_data...\n",
      "[nltk_data]   Package stopwords is already up-to-date!\n",
      "[nltk_data] Downloading package punkt to\n",
      "[nltk_data]     C:\\Users\\Chrus\\AppData\\Roaming\\nltk_data...\n",
      "[nltk_data]   Package punkt is already up-to-date!\n",
      "[nltk_data] Downloading package wordnet to\n",
      "[nltk_data]     C:\\Users\\Chrus\\AppData\\Roaming\\nltk_data...\n",
      "[nltk_data]   Package wordnet is already up-to-date!\n"
     ]
    },
    {
     "data": {
      "text/plain": [
       "True"
      ]
     },
     "execution_count": 2,
     "metadata": {},
     "output_type": "execute_result"
    }
   ],
   "source": [
    "# pytesseract.pytesseract.tesseract_cmd = 'C:/Program Files/Tesseract-OCR/tesseract'\n",
    "nltk.download('stopwords')\n",
    "nltk.download('punkt')\n",
    "nltk.download('wordnet')"
   ]
  },
  {
   "cell_type": "code",
   "execution_count": 3,
   "metadata": {},
   "outputs": [],
   "source": [
    "# convert all images in dir to jpg\n",
    "def to_format(ext, to_ext, inp, out, label):\n",
    "    \n",
    "    img_list = glob.glob('{dir}/*.{ext}'.format(dir=inp, ext=ext))\n",
    "    print('total amount of files: ' + str(amount))\n",
    "    for im, i in zip(img_list, range(len(img_list))):\n",
    "        \n",
    "        try:\n",
    "            im = Image.open(im)\n",
    "            im = im.convert('RGB')\n",
    "            im.save('{output}/{label}{id}.{ext}'.format(output=out, label=label, id=i, ext=to_ext))\n",
    "        \n",
    "            print(\"Status: {perc}% done.\".format(perc=str(((idx+1) / len(img_list)) * 100) + \"%\"))\n",
    "        except Exception as e:\n",
    "            print(e)\n",
    "            pass\n",
    "        \n",
    "           \n",
    "        print(\"finished writing {percentage} percent...\".format(percentage=math.ceil((100/len(labels))*(idx+1))))"
   ]
  },
  {
   "cell_type": "code",
   "execution_count": null,
   "metadata": {},
   "outputs": [],
   "source": [
    "to_format('png','jpg', './data/lieferbeleg/raw', './data/lieferbeleg/', 'lieferbeleg')"
   ]
  },
  {
   "cell_type": "code",
   "execution_count": null,
   "metadata": {},
   "outputs": [],
   "source": [
    "def binarize(im):\n",
    "    \"\"\"\n",
    "    binarize image to improve accuracy\n",
    "    \"\"\"\n",
    "    _ ,im = cv2.threshold(np.array(im),127,255,cv2.THRESH_BINARY)\n",
    "    return Image.fromarray(im)"
   ]
  },
  {
   "cell_type": "code",
   "execution_count": null,
   "metadata": {},
   "outputs": [],
   "source": [
    "\n",
    "def extract_text(im):\n",
    "    \"\"\"\n",
    "    extract text of given image\n",
    "    :param im: image to extract text from\n",
    "    \"\"\"\n",
    "    im = Image.open(im)\n",
    "    im = binarize(im)\n",
    "    \n",
    "    extracted = pytesseract.image_to_string(im, output_type=Output.DICT, lang='deu')\n",
    "    return extracted"
   ]
  },
  {
   "cell_type": "code",
   "execution_count": null,
   "metadata": {},
   "outputs": [],
   "source": [
    "def texts_to_list(input_dir, label):\n",
    "    \n",
    "    cap = 700\n",
    "    res = []\n",
    "    ext = \"jpg\"\n",
    "    img_list = glob.glob('{dir}/*.{ext}'.format(dir=input_dir, ext=ext))\n",
    "    print('amount files: {amount}'.format(amount = len(img_list)))\n",
    "    for im, i in zip(img_list[:cap], range(len(img_list[:cap]))):\n",
    "        \n",
    "        extracted_text = extract_text(im)\n",
    "        extracted_text['id'] = i +1\n",
    "        extracted_text['label'] = label\n",
    "        res.append(extracted_text)\n",
    "        \n",
    "        print(\"Status: {perc}% done.\".format(perc=str(((i+1) / len(img_list[:cap])) * 100) + \"%\"))\n",
    "   \n",
    "    return res"
   ]
  },
  {
   "cell_type": "code",
   "execution_count": null,
   "metadata": {},
   "outputs": [],
   "source": [
    "list_rb = texts_to_list('/Users/ct/local/rechnungsbeleg', label='invoice')"
   ]
  },
  {
   "cell_type": "code",
   "execution_count": null,
   "metadata": {},
   "outputs": [],
   "source": [
    "list_rg = texts_to_list('/Users/ct/local/regressforderung', label='regress')"
   ]
  },
  {
   "cell_type": "code",
   "execution_count": null,
   "metadata": {},
   "outputs": [],
   "source": [
    "with open('./data/rechnungsbeleg/invoice_data.json', 'w') as json_file:\n",
    "    json.dump(list_rb, json_file)\n",
    "with open('./data/regress/regress_data.json', 'w') as json_file:\n",
    "    json.dump(list_rg, json_file)"
   ]
  },
  {
   "cell_type": "code",
   "execution_count": 64,
   "metadata": {},
   "outputs": [],
   "source": [
    "df_inv=pd.read_json(\"./data/rechnungsbeleg/invoice_data.json\")\n",
    "df_re=pd.read_json(\"./data/regress/regress_data.json\")\n",
    "df = pd.concat([df_inv, df_re])"
   ]
  },
  {
   "cell_type": "code",
   "execution_count": 65,
   "metadata": {},
   "outputs": [],
   "source": [
    "def normalize(df):\n",
    "    \n",
    "    df['text'].apply(lambda x: re.sub(\"(\\\\W)+\",\" \",x))\n",
    "    df['text'].apply(lambda x: re.sub(r'[^\\w\\s]', '', x)) \n",
    "    df['text'].apply(lambda x: nltk.word_tokenize(x))\n",
    "    df['text'].apply(lambda x: [word.lower() for word in x])    \n",
    "\n",
    "normalize(df)  "
   ]
  },
  {
   "cell_type": "code",
   "execution_count": 66,
   "metadata": {},
   "outputs": [],
   "source": [
    "from sklearn.model_selection import train_test_split \n",
    "\n",
    "X_train, X_test, y_train, y_test = train_test_split(df['text'], df['label'], test_size=0.2)"
   ]
  },
  {
   "cell_type": "code",
   "execution_count": 67,
   "metadata": {},
   "outputs": [
    {
     "data": {
      "text/plain": [
       "(1120, 30)"
      ]
     },
     "execution_count": 67,
     "metadata": {},
     "output_type": "execute_result"
    }
   ],
   "source": [
    "from sklearn.feature_extraction.text import CountVectorizer\n",
    "\n",
    "stop_words = set(stopwords.words(\"german\"))\n",
    "additional_stopwords = ['ok', 'de', 'hub', 'co', 'www',\n",
    "                       'ag',  'm', 'gmbh', 'eda', 'uhr', 'homberg', 'kg',\n",
    "                        'packstück', 'depot', 'nr', 'sendung', 'anzahl', 'eur',\n",
    "                        'ctl', 'str', 'gew', 'gewicht', 'höhe', 'haus', 'frei']\n",
    "\n",
    "new_stopwords_list = stop_words.union(additional_stopwords)\n",
    "token_pattern = r'\\b[^\\d\\W]+\\b'\n",
    "\n",
    "count_vect = CountVectorizer(stop_words = new_stopwords_list, token_pattern=token_pattern, analyzer='word', max_features=30)\n",
    "\n",
    "word_count_vec = count_vect.fit_transform(X_train)\n",
    "count_train = count_vect.fit(X_train)\n",
    "\n",
    "word_count_vec.shape"
   ]
  },
  {
   "cell_type": "code",
   "execution_count": 68,
   "metadata": {},
   "outputs": [],
   "source": [
    "from sklearn.feature_extraction.text import TfidfTransformer\n",
    "\n",
    "tfidf_transformer = TfidfTransformer()\n",
    "X_train_tfidf = tfidf_transformer.fit_transform(word_count_vec)"
   ]
  },
  {
   "cell_type": "code",
   "execution_count": 69,
   "metadata": {},
   "outputs": [
    {
     "data": {
      "text/plain": [
       "<1120x30 sparse matrix of type '<class 'numpy.float64'>'\n",
       "\twith 14757 stored elements in Compressed Sparse Row format>"
      ]
     },
     "execution_count": 69,
     "metadata": {},
     "output_type": "execute_result"
    }
   ],
   "source": [
    "X_train_tfidf"
   ]
  },
  {
   "cell_type": "code",
   "execution_count": 70,
   "metadata": {},
   "outputs": [
    {
     "data": {
      "text/html": [
       "<div>\n",
       "<style scoped>\n",
       "    .dataframe tbody tr th:only-of-type {\n",
       "        vertical-align: middle;\n",
       "    }\n",
       "\n",
       "    .dataframe tbody tr th {\n",
       "        vertical-align: top;\n",
       "    }\n",
       "\n",
       "    .dataframe thead th {\n",
       "        text-align: right;\n",
       "    }\n",
       "</style>\n",
       "<table border=\"1\" class=\"dataframe\">\n",
       "  <thead>\n",
       "    <tr style=\"text-align: right;\">\n",
       "      <th></th>\n",
       "      <th>idf_weights</th>\n",
       "    </tr>\n",
       "  </thead>\n",
       "  <tbody>\n",
       "    <tr>\n",
       "      <td>spedition</td>\n",
       "      <td>1.603611</td>\n",
       "    </tr>\n",
       "    <tr>\n",
       "      <td>regressforderung</td>\n",
       "      <td>1.697617</td>\n",
       "    </tr>\n",
       "    <tr>\n",
       "      <td>inhalt</td>\n",
       "      <td>1.697617</td>\n",
       "    </tr>\n",
       "    <tr>\n",
       "      <td>bearbeiter</td>\n",
       "      <td>1.699411</td>\n",
       "    </tr>\n",
       "    <tr>\n",
       "      <td>versanddatum</td>\n",
       "      <td>1.704812</td>\n",
       "    </tr>\n",
       "    <tr>\n",
       "      <td>versanddepot</td>\n",
       "      <td>1.710242</td>\n",
       "    </tr>\n",
       "    <tr>\n",
       "      <td>service</td>\n",
       "      <td>1.710242</td>\n",
       "    </tr>\n",
       "    <tr>\n",
       "      <td>empfangsdepot</td>\n",
       "      <td>1.710242</td>\n",
       "    </tr>\n",
       "    <tr>\n",
       "      <td>frankatur</td>\n",
       "      <td>1.710242</td>\n",
       "    </tr>\n",
       "    <tr>\n",
       "      <td>umschlag</td>\n",
       "      <td>1.728557</td>\n",
       "    </tr>\n",
       "  </tbody>\n",
       "</table>\n",
       "</div>"
      ],
      "text/plain": [
       "                  idf_weights\n",
       "spedition            1.603611\n",
       "regressforderung     1.697617\n",
       "inhalt               1.697617\n",
       "bearbeiter           1.699411\n",
       "versanddatum         1.704812\n",
       "versanddepot         1.710242\n",
       "service              1.710242\n",
       "empfangsdepot        1.710242\n",
       "frankatur            1.710242\n",
       "umschlag             1.728557"
      ]
     },
     "execution_count": 70,
     "metadata": {},
     "output_type": "execute_result"
    }
   ],
   "source": [
    "df_idf = pd.DataFrame(tfidf_transformer.idf_, index=count_vect.get_feature_names(), columns=[\"idf_weights\"])\n",
    " \n",
    "df_idf.sort_values(by=['idf_weights'])[:10]"
   ]
  },
  {
   "cell_type": "code",
   "execution_count": 71,
   "metadata": {},
   "outputs": [],
   "source": [
    "clf = MultinomialNB().fit(X_train_tfidf, y_train)"
   ]
  },
  {
   "cell_type": "code",
   "execution_count": 72,
   "metadata": {},
   "outputs": [],
   "source": [
    "\n",
    "text_clf = Pipeline([('vect', CountVectorizer(stop_words = new_stopwords_list, token_pattern=token_pattern, analyzer='word', max_features=30)),\n",
    "                     ('tfidf', TfidfTransformer()),\n",
    "                     ('clf', MultinomialNB()),\n",
    "])\n",
    "\n",
    "text_clf = text_clf.fit(X_train, y_train)"
   ]
  },
  {
   "cell_type": "code",
   "execution_count": 73,
   "metadata": {},
   "outputs": [
    {
     "name": "stdout",
     "output_type": "stream",
     "text": [
      "              precision    recall  f1-score   support\n",
      "\n",
      "     invoice       0.99      0.96      0.98       139\n",
      "     regress       0.97      0.99      0.98       141\n",
      "\n",
      "    accuracy                           0.98       280\n",
      "   macro avg       0.98      0.98      0.98       280\n",
      "weighted avg       0.98      0.98      0.98       280\n",
      "\n"
     ]
    }
   ],
   "source": [
    "from sklearn.metrics import classification_report\n",
    "\n",
    "\n",
    "y_pred = text_clf.predict(X_test)\n",
    "\n",
    "print(classification_report(y_test, y_pred))"
   ]
  },
  {
   "cell_type": "code",
   "execution_count": 50,
   "metadata": {},
   "outputs": [
    {
     "data": {
      "text/plain": [
       "array([0.95833333, 0.9787234 , 0.9787234 , 1.        , 0.97826087,\n",
       "       1.        ])"
      ]
     },
     "execution_count": 50,
     "metadata": {},
     "output_type": "execute_result"
    }
   ],
   "source": [
    "from sklearn.model_selection import cross_val_score, cross_val_predict\n",
    "\n",
    "scores = cross_val_score(text_clf, X_test, y_test, cv=6)\n",
    "predictions = cross_val_predict(text_clf, X_test, y_test, cv=6)\n",
    "\n",
    "scores"
   ]
  },
  {
   "cell_type": "code",
   "execution_count": 51,
   "metadata": {},
   "outputs": [
    {
     "data": {
      "text/plain": [
       "(2.0, 0.0)"
      ]
     },
     "execution_count": 51,
     "metadata": {},
     "output_type": "execute_result"
    },
    {
     "data": {
      "image/png": "[encoded data removed]",
      "text/plain": [
       "<Figure size 432x288 with 2 Axes>"
      ]
     },
     "metadata": {
      "needs_background": "light"
     },
     "output_type": "display_data"
    }
   ],
   "source": [
    "from sklearn.metrics import confusion_matrix\n",
    "np.set_printoptions(suppress=True)\n",
    "labels =[\"invoice\", \"regress\"]\n",
    "cm = confusion_matrix(y_test, predictions, labels)\n",
    "ax= plt.subplot()\n",
    "sns.heatmap(cm, annot=True, ax = ax, fmt='g')\n",
    "\n",
    "ax.set_xlabel('Predicted');\n",
    "ax.set_ylabel('True'); \n",
    "ax.set_title('Confusion Matrix'); \n",
    "ax.xaxis.set_ticklabels(labels); \n",
    "ax.yaxis.set_ticklabels(labels);\n",
    "bottom, top = ax.get_ylim()\n",
    "ax.set_ylim(bottom + 0.5, top - 0.5)"
   ]
  },
  {
   "cell_type": "code",
   "execution_count": 52,
   "metadata": {},
   "outputs": [
    {
     "name": "stdout",
     "output_type": "stream",
     "text": [
      "Accuracy: 0.98 (+/- 0.03)\n"
     ]
    }
   ],
   "source": [
    "print(\"Accuracy: %0.2f (+/- %0.2f)\" % (scores.mean(), scores.std() * 2))"
   ]
  },
  {
   "cell_type": "code",
   "execution_count": 53,
   "metadata": {},
   "outputs": [],
   "source": [
    "import pickle\n",
    "\n",
    "filename = 'txt_clf_model.sav'\n",
    "pickle.dump(text_clf, open(filename, 'wb'))"
   ]
  },
  {
   "cell_type": "code",
   "execution_count": null,
   "metadata": {},
   "outputs": [],
   "source": []
  }
 ],
 "metadata": {
  "kernelspec": {
   "display_name": "Python 3",
   "language": "python",
   "name": "python3"
  },
  "language_info": {
   "codemirror_mode": {
    "name": "ipython",
    "version": 3
   },
   "file_extension": ".py",
   "mimetype": "text/x-python",
   "name": "python",
   "nbconvert_exporter": "python",
   "pygments_lexer": "ipython3",
   "version": "3.7.3"
  }
 },
 "nbformat": 4,
 "nbformat_minor": 4
}
