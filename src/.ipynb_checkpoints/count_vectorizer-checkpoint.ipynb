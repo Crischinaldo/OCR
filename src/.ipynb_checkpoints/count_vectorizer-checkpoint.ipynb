{
 "cells": [
  {
   "cell_type": "code",
   "execution_count": 60,
   "metadata": {},
   "outputs": [],
   "source": [
    "import pytesseract\n",
    "from pytesseract import Output\n",
    "from PIL import Image\n",
    "import cv2\n",
    "import re\n",
    "import numpy as np\n",
    "from sklearn.feature_extraction.text import CountVectorizer\n",
    "import glob\n",
    "import json\n",
    "import pandas as pd\n",
    "from sklearn.utils import shuffle\n",
    "import seaborn as sn\n",
    "import matplotlib.pyplot as plt\n",
    "import re, string, unicodedata\n",
    "import nltk\n",
    "# import contractions\n",
    "import inflect\n",
    "from bs4 import BeautifulSoup\n",
    "from nltk import word_tokenize, sent_tokenize\n",
    "from nltk.corpus import stopwords\n",
    "from nltk.stem import LancasterStemmer, WordNetLemmatizer\n",
    "from nltk.tokenize.treebank import TreebankWordDetokenizer, TreebankWordTokenizer\n",
    "from sklearn.naive_bayes import MultinomialNB\n",
    "from sklearn.externals import joblib\n",
    "from sklearn.pipeline import Pipeline\n",
    "# Import stopwords with scikit-learn"
   ]
  },
  {
   "cell_type": "code",
   "execution_count": 44,
   "metadata": {},
   "outputs": [
    {
     "name": "stderr",
     "output_type": "stream",
     "text": [
      "[nltk_data] Downloading package stopwords to\n",
      "[nltk_data]     C:\\Users\\Chrus\\AppData\\Roaming\\nltk_data...\n",
      "[nltk_data]   Package stopwords is already up-to-date!\n",
      "[nltk_data] Downloading package punkt to\n",
      "[nltk_data]     C:\\Users\\Chrus\\AppData\\Roaming\\nltk_data...\n",
      "[nltk_data]   Package punkt is already up-to-date!\n",
      "[nltk_data] Downloading package wordnet to\n",
      "[nltk_data]     C:\\Users\\Chrus\\AppData\\Roaming\\nltk_data...\n",
      "[nltk_data]   Package wordnet is already up-to-date!\n"
     ]
    },
    {
     "data": {
      "text/plain": [
       "True"
      ]
     },
     "execution_count": 44,
     "metadata": {},
     "output_type": "execute_result"
    }
   ],
   "source": [
    "pytesseract.pytesseract.tesseract_cmd = 'C:/Program Files/Tesseract-OCR/tesseract'\n",
    "nltk.download('stopwords')\n",
    "nltk.download('punkt')\n",
    "nltk.download('wordnet')"
   ]
  },
  {
   "cell_type": "code",
   "execution_count": 45,
   "metadata": {},
   "outputs": [],
   "source": [
    "# convert all images in dir to jpg\n",
    "def to_format(ext, to_ext, inp, out, label):\n",
    "    print('enter')\n",
    "    \n",
    "    amount = len(glob.glob('{dir}/*.{ext}'.format(dir=inp, ext=ext)))\n",
    "    print('amount files: ' + str(amount))\n",
    "    for im, i in zip(glob.glob('{dir}/*.{ext}'.format(dir=inp, ext=ext)), range(amount)):\n",
    "        \n",
    "        try:\n",
    "            im = Image.open(im)\n",
    "            im = im.convert('RGB')\n",
    "            im.save('{output}/{label}{id}.{ext}'.format(output=out, label=label, id=i, ext=to_ext))\n",
    "            print('saving img to folder {output}'.format(idx=i+1, id=1, ext=to_ext, output=out))\n",
    "        except Exception as e:\n",
    "            print(e)\n",
    "            pass\n",
    "           \n",
    "       # print(\"finished writing {percentage} percent...\".format(percentage=math.ceil((100/len(labels))*(idx+1))))"
   ]
  },
  {
   "cell_type": "code",
   "execution_count": 46,
   "metadata": {},
   "outputs": [
    {
     "name": "stdout",
     "output_type": "stream",
     "text": [
      "enter\n",
      "amount files: 4\n",
      "saving img to folder ./data/lieferbeleg/\n",
      "saving img to folder ./data/lieferbeleg/\n",
      "saving img to folder ./data/lieferbeleg/\n",
      "saving img to folder ./data/lieferbeleg/\n"
     ]
    }
   ],
   "source": [
    "to_format('png','jpg', './data/lieferbeleg/raw', './data/lieferbeleg/', 'lieferbeleg')"
   ]
  },
  {
   "cell_type": "code",
   "execution_count": 47,
   "metadata": {},
   "outputs": [],
   "source": [
    "def preprocess(im):\n",
    "    \"\"\"\n",
    "    binarize image to improve accuracy\n",
    "    \"\"\"\n",
    "    _ ,im = cv2.threshold(np.array(im),127,255,cv2.THRESH_BINARY)\n",
    "    return Image.fromarray(im)"
   ]
  },
  {
   "cell_type": "code",
   "execution_count": 48,
   "metadata": {},
   "outputs": [],
   "source": [
    "\n",
    "def extract_text(im):\n",
    "    \"\"\"\n",
    "    extract text of given image\n",
    "    :param im: image to extract text from\n",
    "    \"\"\"\n",
    "    im = Image.open(im)\n",
    "    im = preprocess(im)\n",
    "    \n",
    "    extracted = pytesseract.image_to_string(im, output_type=Output.DICT, lang='deu')\n",
    "    return extracted"
   ]
  },
  {
   "cell_type": "code",
   "execution_count": 65,
   "metadata": {},
   "outputs": [],
   "source": [
    "def texts_to_list(input_dir, label):\n",
    "    \n",
    "    res = []\n",
    "    ext = \"jpg\"\n",
    "    images = glob.glob('{dir}/*.{ext}'.format(dir=input_dir, ext=ext))\n",
    "    print('amount files: ' + str(amount))\n",
    "    for im, i in zip(images, range(len(amount))):\n",
    "        extracted_text = extract_text(im)\n",
    "        extracted_text['id'] = i +1\n",
    "        extracted_text['label'] = label\n",
    "        res.append(extracted_text)\n",
    "   \n",
    "    return res"
   ]
  },
  {
   "cell_type": "code",
   "execution_count": 50,
   "metadata": {},
   "outputs": [
    {
     "name": "stdout",
     "output_type": "stream",
     "text": [
      "amount files: 5\n",
      "amount files: 6\n"
     ]
    }
   ],
   "source": [
    "list_rb = texts_to_list('./data/rechnungsbeleg', label='invoice')\n",
    "list_lb = texts_to_list('./data/lieferbeleg', label='delivery')\n",
    "\n",
    "with open('./data/rechnungsbeleg/invoice_data.json', 'w') as fout:\n",
    "    json.dump(list_rb, fout)\n",
    "with open('./data/lieferbeleg/delivery_data.json', 'w') as fout:\n",
    "    json.dump(list_lb , fout)"
   ]
  },
  {
   "cell_type": "code",
   "execution_count": 51,
   "metadata": {},
   "outputs": [],
   "source": [
    "import pandas as pd\n",
    "\n",
    "# read json into a dataframe\n",
    "df_inv=pd.read_json(\"./data/rechnungsbeleg/invoice_data.json\")\n",
    "df_del=pd.read_json(\"./data/lieferbeleg/delivery_data.json\")\n",
    "\n",
    "df = pd.concat([df_inv, df_del])\n",
    "df = shuffle(df)"
   ]
  },
  {
   "cell_type": "code",
   "execution_count": 52,
   "metadata": {},
   "outputs": [
    {
     "data": {
      "text/plain": [
       "2    [Mustermann, Malerei, GmbH, Hauptstrasse, 123,...\n",
       "2    [362, TRAP, HOM, usterste, 112, Hummer, Holdin...\n",
       "1    [M, Carsten, Hilgers, Carsten, Hilgers, Stahlw...\n",
       "4    [Firmenname, Frmenname, Musterstraie, 57, 1234...\n",
       "4    [o, 8, r, na, easyblll, Dukum, nt, ifach, rech...\n",
       "0    [Muster, Straße, 1, 12345, Musterstadt, Muster...\n",
       "3                   [da4d, Muster, GmbH, Lieferschein]\n",
       "3    [Dr, Susanne, Jetzi, Physiotherapie, Mustergas...\n",
       "5    [Firmenname, Musterstraße, 5, 12345, Stadt, Fi...\n",
       "1    [unitymedia, Unitymedia, Kunden, Service, Cent...\n",
       "0    [Lieferschein, Druckwiederhe, rg, 10003839, 33...\n",
       "Name: text, dtype: object"
      ]
     },
     "execution_count": 52,
     "metadata": {},
     "output_type": "execute_result"
    }
   ],
   "source": [
    "# normalization\n",
    "\n",
    "stemmer = LancasterStemmer()\n",
    "lemmatizer = WordNetLemmatizer()\n",
    "p = inflect.engine()\n",
    "\n",
    "# remove special characters\n",
    "df['text'] = df['text'].apply(lambda x: re.sub(\"(\\\\W)+\",\" \",x))\n",
    "\n",
    "# remove punctuation\n",
    "df['text'].apply(lambda x: re.sub(r'[^\\w\\s]', '', x)) \n",
    "    \n",
    "# tokenize \n",
    "df['text'] = df['text'].apply(lambda x:nltk.word_tokenize(x))\n",
    "\n",
    "# to lower case\n",
    "df['text'].apply(lambda x: [word.lower() for word in x])    \n",
    "\n",
    "# filter special characters\n",
    "df['text'].apply(lambda x: [word.lower() for word in x])    \n",
    "\n",
    "# filter stopwords\n",
    "df['text'].apply(lambda x: [item for item in x if item not in stopwords.words('german')])\n",
    "\n",
    "# remove punctuation\n",
    "df['text'].apply(lambda x: [re.sub(r'[^\\w\\s]', '', word) for word in x if word != '']) \n",
    "\n",
    "# Remove non-ASCII characters from list of tokenized words\n",
    "df['text'].apply(lambda x: [unicodedata.normalize('NFKD', word).encode('ascii', 'ignore').decode('utf-8', 'ignore') for word in x])    \n",
    "\n",
    "# Replace all interger occurrences in list of tokenized words with textual representation\n",
    "df['text'].apply(lambda x: [p.number_to_words(word) for word in x if word.isdigit()])\n",
    "  \n",
    "# stemming\n",
    "df['text'].apply(lambda x: [stemmer.stem(word) for word in x])  \n",
    "\n",
    "# lemmatizing\n",
    "df['text'].apply(lambda x: [lemmatizer.lemmatize(word, pos='v') for word in x])    \n",
    "  "
   ]
  },
  {
   "cell_type": "code",
   "execution_count": 53,
   "metadata": {},
   "outputs": [],
   "source": [
    "from sklearn.model_selection import train_test_split  \n",
    "\n",
    "#train, test = train_test_split(df, test_size=0.2)\n",
    "#test\n",
    "X_train, X_test, y_train, y_test = train_test_split(df['text'], df['label'], test_size=0.2, random_state=0)\n"
   ]
  },
  {
   "cell_type": "code",
   "execution_count": 64,
   "metadata": {},
   "outputs": [
    {
     "data": {
      "text/plain": [
       "<matplotlib.lines.Line2D at 0x2c47b9f36a0>"
      ]
     },
     "execution_count": 64,
     "metadata": {},
     "output_type": "execute_result"
    },
    {
     "data": {
      "image/png": "[encoded data removed]",
      "text/plain": [
       "<Figure size 432x288 with 1 Axes>"
      ]
     },
     "metadata": {},
     "output_type": "display_data"
    }
   ],
   "source": [
    "def dummy(doc):\n",
    "    return doc\n",
    "\n",
    "# create a count vectorizer object disable preprocessing and tokenizing \n",
    "count_vect = CountVectorizer(\n",
    "    tokenizer=dummy,\n",
    "    preprocessor=dummy,\n",
    ")  \n",
    "\n",
    "# count_vect.fit(X_train)\n",
    "\n",
    "X_train_counts = count_vect.fit_transform(X_train)\n",
    "X_train_counts.shape\n",
    "plt.spy(X_train_counts, markersize=1)\n",
    "\n",
    "#sn.set(font_scale=1.4)#for label size\n",
    "#sn.heatmap(X_train_counts, annot=True,annot_kws={\"size\": 16})# font size"
   ]
  },
  {
   "cell_type": "code",
   "execution_count": 63,
   "metadata": {},
   "outputs": [
    {
     "data": {
      "text/plain": [
       "<8x573 sparse matrix of type '<class 'numpy.float64'>'\n",
       "\twith 718 stored elements in Compressed Sparse Row format>"
      ]
     },
     "execution_count": 63,
     "metadata": {},
     "output_type": "execute_result"
    }
   ],
   "source": [
    "from sklearn.feature_extraction.text import TfidfTransformer\n",
    "\n",
    "tfidf_transformer = TfidfTransformer()\n",
    "X_train_tfidf = tfidf_transformer.fit_transform(X_train_counts)\n",
    "X_train_tfidf.shape"
   ]
  },
  {
   "cell_type": "code",
   "execution_count": 56,
   "metadata": {},
   "outputs": [],
   "source": [
    "clf = MultinomialNB().fit(X_train_tfidf, y_train)"
   ]
  },
  {
   "cell_type": "code",
   "execution_count": 57,
   "metadata": {},
   "outputs": [],
   "source": [
    "\n",
    "text_clf = Pipeline([('vect', CountVectorizer(tokenizer=dummy,preprocessor=dummy,)),\n",
    "                     ('tfidf', TfidfTransformer()),\n",
    "                     ('clf', MultinomialNB()),\n",
    "])\n",
    "\n",
    "text_clf = text_clf.fit(X_test, y_test)"
   ]
  },
  {
   "cell_type": "code",
   "execution_count": 58,
   "metadata": {},
   "outputs": [
    {
     "name": "stdout",
     "output_type": "stream",
     "text": [
      "              precision    recall  f1-score   support\n",
      "\n",
      "    delivery       1.00      1.00      1.00         1\n",
      "     invoice       1.00      1.00      1.00         2\n",
      "\n",
      "    accuracy                           1.00         3\n",
      "   macro avg       1.00      1.00      1.00         3\n",
      "weighted avg       1.00      1.00      1.00         3\n",
      "\n"
     ]
    }
   ],
   "source": [
    "import numpy as np\n",
    "\n",
    "\n",
    "predicted = text_clf.predict(X_test)\n",
    "predicted\n",
    "np.mean(predicted == y_test)\n",
    "from sklearn.metrics import classification_report\n",
    "y_pred = text_clf.predict(X_test)\n",
    "\n",
    "# print('accuracy %s' % accuracy_score(y_pred, y_test))\n",
    "print(classification_report(y_test, y_pred))"
   ]
  },
  {
   "cell_type": "code",
   "execution_count": 42,
   "metadata": {},
   "outputs": [
    {
     "name": "stdout",
     "output_type": "stream",
     "text": [
      "1.0\n"
     ]
    }
   ],
   "source": [
    "# save the model to disk\n",
    "filename = 'text_clf.sav'\n",
    "joblib.dump(text_clf, filename)\n",
    " \n",
    " \n",
    "# load the model from disk\n",
    "loaded_model = joblib.load(filename)\n",
    "result = loaded_model.score(X_test, y_test)\n",
    "print(result)"
   ]
  },
  {
   "cell_type": "code",
   "execution_count": null,
   "metadata": {},
   "outputs": [],
   "source": []
  }
 ],
 "metadata": {
  "kernelspec": {
   "display_name": "Python 3",
   "language": "python",
   "name": "python3"
  },
  "language_info": {
   "codemirror_mode": {
    "name": "ipython",
    "version": 3
   },
   "file_extension": ".py",
   "mimetype": "text/x-python",
   "name": "python",
   "nbconvert_exporter": "python",
   "pygments_lexer": "ipython3",
   "version": "3.7.3"
  }
 },
 "nbformat": 4,
 "nbformat_minor": 4
}
