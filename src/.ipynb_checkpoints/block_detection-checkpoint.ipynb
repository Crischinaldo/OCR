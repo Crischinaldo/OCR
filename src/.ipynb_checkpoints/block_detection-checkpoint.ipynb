{
 "cells": [
  {
   "cell_type": "code",
   "execution_count": 106,
   "metadata": {},
   "outputs": [],
   "source": [
    "#import pytesseract\n",
    "#from pytesseract import Output\n",
    "from PIL import Image\n",
    "import cv2\n",
    "from tesserocr import PyTessBaseAPI, RIL, OEM\n",
    "import matplotlib.pyplot as plt\n",
    "import numpy as np\n",
    "import re\n",
    "import json"
   ]
  },
  {
   "cell_type": "code",
   "execution_count": 41,
   "metadata": {},
   "outputs": [],
   "source": [
    "def find_max_currency(text):\n",
    "    currencies = re.findall(patterns['balance_due'] ,text)\n",
    "    floated_currencies = [float(i.replace(',', '.')) for i in currencies]\n",
    "    if floated_currencies:\n",
    "        max_floated_currency = max(floated_currencies)\n",
    "    str_currency = str(max_floated_currency).replace('.', ',')    \n",
    "    return str_currency\n",
    "    "
   ]
  },
  {
   "cell_type": "code",
   "execution_count": 42,
   "metadata": {},
   "outputs": [],
   "source": [
    "class RegionOfInterest:\n",
    "    \n",
    "    def __init__(self, box, text, label):\n",
    "        self.coords = (box['x'], box['y']), (box['x']+ box['w'], box['y'] + box['h'])\n",
    "        self.text = text\n",
    "        self.label = label\n",
    "        "
   ]
  },
  {
   "cell_type": "code",
   "execution_count": 45,
   "metadata": {},
   "outputs": [],
   "source": [
    "im = Image.open('rechnung.png')\n",
    "im = im.convert('RGB')\n",
    "im.save('rechnung.jpg')"
   ]
  },
  {
   "cell_type": "code",
   "execution_count": null,
   "metadata": {},
   "outputs": [],
   "source": [
    "x = [line for line in address.rstrip('\\n').split('\\n')]\n",
    "address_data = list(filter(None, x))\n",
    "address_data"
   ]
  },
  {
   "cell_type": "code",
   "execution_count": 6,
   "metadata": {},
   "outputs": [],
   "source": [
    "import pytesseract\n",
    "from pytesseract import Output\n",
    "pytesseract.pytesseract.tesseract_cmd = 'C:/Program Files/Tesseract-OCR/tesseract'"
   ]
  },
  {
   "cell_type": "code",
   "execution_count": null,
   "metadata": {},
   "outputs": [],
   "source": [
    "def find_max_currency(text):\n",
    "    currencies = re.findall(patterns['balance_due'] ,text)\n",
    "    floated_currencies = [float(i.replace(',', '.')) for i in currencies]\n",
    "    if floated_currencies:\n",
    "        max_floated_currency = max(floated_currencies)\n",
    "    str_currency = str(max_floated_currency).replace('.', ',')    \n",
    "    return str_currency\n",
    "    "
   ]
  },
  {
   "cell_type": "code",
   "execution_count": 162,
   "metadata": {},
   "outputs": [],
   "source": [
    "def match_iban(text):\n",
    "    iban = re.findall(patterns['iban'] ,text)\n",
    "    \n",
    "    return iban\n",
    "\n",
    "def match_bic(text):\n",
    "    bic = re.findall(patterns['bic'] ,text)\n",
    "    \n",
    "    return bic"
   ]
  },
  {
   "cell_type": "code",
   "execution_count": 119,
   "metadata": {},
   "outputs": [
    {
     "data": {
      "text/plain": [
       "True"
      ]
     },
     "execution_count": 119,
     "metadata": {},
     "output_type": "execute_result"
    }
   ],
   "source": [
    "\n",
    "\n",
    "import pandas as pd\n",
    "from pytesseract import Output\n",
    "\n",
    "\n",
    "class Level:\n",
    "    BLOCK = 1\n",
    "    \"\"\"of text/image/separator line.\"\"\"\n",
    "\n",
    "    PARA = 2\n",
    "    \"\"\"within a block.\"\"\"\n",
    "\n",
    "    TEXTLINE = 3\n",
    "    \"\"\"within a paragraph.\"\"\"\n",
    "\n",
    "    WORD = 4\n",
    "    \"\"\"within a textline.\"\"\"\n",
    "\n",
    "    SYMBOL = 5\n",
    "    \n",
    "    \n",
    "custom_oem_psm_config = r'--oem 3 --psm 3'\n",
    "im = Image.open(\"./data/invoice1.jpg\")\n",
    "cv_img = cv2.imread(\"./data/invoice1.jpg\")\n",
    "# gray_img = cv2.cvtColor(cv_img, cv2.COLOR_BGR2GRAY)\n",
    "image = Image.fromarray(cv_img)\n",
    "\n",
    "d = pytesseract.image_to_data(im, output_type=Output.DICT, lang='deu')\n",
    "n_boxes = len(d['level'])\n",
    "\n",
    "# print(d)\n",
    "for i in range(n_boxes):\n",
    "    if d['level'][i] == 5:\n",
    "        d['text'][i]\n",
    "        (x, y, w, h) = (d['left'][i], d['top'][i], d['width'][i], d['height'][i])\n",
    "        cv2.rectangle(cv_img, (x, y), (x + w, y + h), (0, 255, 0), 2)\n",
    "        \n",
    "\n",
    "\n",
    "cv2.imwrite('img.jpg', cv_img)"
   ]
  },
  {
   "cell_type": "code",
   "execution_count": 111,
   "metadata": {},
   "outputs": [
    {
     "data": {
      "text/plain": [
       "'92,42'"
      ]
     },
     "execution_count": 111,
     "metadata": {},
     "output_type": "execute_result"
    }
   ],
   "source": [
    "extracted_text = pytesseract.image_to_string(image)\n",
    "currency = find_max_currency(extracted_text)\n",
    "currency"
   ]
  },
  {
   "cell_type": "code",
   "execution_count": 163,
   "metadata": {},
   "outputs": [
    {
     "data": {
      "text/plain": [
       "[]"
      ]
     },
     "execution_count": 163,
     "metadata": {},
     "output_type": "execute_result"
    }
   ],
   "source": [
    "iban = match_iban(extracted_text)\n",
    "iban"
   ]
  },
  {
   "cell_type": "code",
   "execution_count": 164,
   "metadata": {},
   "outputs": [
    {
     "data": {
      "text/plain": [
       "[]"
      ]
     },
     "execution_count": 164,
     "metadata": {},
     "output_type": "execute_result"
    }
   ],
   "source": [
    "bic = match_bic(extracted_text)\n",
    "bic"
   ]
  },
  {
   "cell_type": "code",
   "execution_count": null,
   "metadata": {},
   "outputs": [],
   "source": [
    "\"\"\"\n",
    "ittr = iter(level_four_locs)\n",
    "for level_four_loc in ittr:\n",
    "    curr_loc = level_four_loc\n",
    "\n",
    "    next_loc = next(iter(ittr) , None)\n",
    "    print(next_loc)\n",
    "    if next_loc is not None:\n",
    "        start = curr_loc\n",
    "        end = next_loc\n",
    "        df_groups.append(df.iloc[start:end])\n",
    "\"\"\""
   ]
  },
  {
   "cell_type": "code",
   "execution_count": 156,
   "metadata": {},
   "outputs": [],
   "source": [
    "\n",
    "with open(\"./data/german-cities.json\") as json_file:\n",
    "    german_cities = json.load(json_file)\n",
    "\n",
    "city_list = [city['name'] for city in german_cities['data']]\n",
    "\n",
    "patterns = {\n",
    "        'balance_due': '\\d{1,3}(?:[.]\\d{3})*(?:[,]\\d{2})',\n",
    "        'iban': '[A-Z]{2}(?:[ ]?)[0-9]{2}(?:[ ]?[0-9]{4}){4}(?!(?:[ ]?[0-9]){3})(?:[ ]?[0-9]{1,2})?',\n",
    "        'bic': '/[A-Z]{6}[A-Z0-9]{2}([A-Z0-9]{3})?/i',\n",
    "}"
   ]
  },
  {
   "cell_type": "code",
   "execution_count": 160,
   "metadata": {},
   "outputs": [
    {
     "data": {
      "text/plain": [
       "True"
      ]
     },
     "execution_count": 160,
     "metadata": {},
     "output_type": "execute_result"
    }
   ],
   "source": [
    "df = pd.DataFrame.from_dict(d)\n",
    "im = Image.open(\"./data/invoice1.jpg\")\n",
    "cv_img = cv2.imread(\"./data/invoice1.jpg\")\n",
    "# gray_img = cv2.cvtColor(cv_img, cv2.COLOR_BGR2GRAY)\n",
    "image = Image.fromarray(cv_img)\n",
    "\n",
    "CLASSES = [\"Balance_due\", \"town\", \"iban\", \"bic\"]\n",
    "COLORS = np.random.uniform(0, 255, size=(len(CLASSES), 3))\n",
    "\n",
    "level_four_locs = np.where(df['level'] == 4)[0]\n",
    "cond = df['level'] == 5\n",
    "df_lvl_five = df[cond]\n",
    "\n",
    "for idx, text in enumerate(df_lvl_five['text'].values):\n",
    "    if currency in text:\n",
    "        rel_idx = df_lvl_five['text'].index[idx]\n",
    "        \n",
    "        (x, y, w, h) = (df_lvl_five['left'][rel_idx],\n",
    "                        df_lvl_five['top'][rel_idx],\n",
    "                        df_lvl_five['width'][rel_idx],\n",
    "                        df_lvl_five['height'][rel_idx])\n",
    "        cv2.rectangle(cv_img, (x, y), (x + w, y + h), COLORS[0], 2)\n",
    "        y_label = y - 15 if y - 15 > 15 else y + 15\n",
    "        x_label = x + 30 if x + 30 > 30 else x - 30\n",
    "        cv2.putText(img=cv_img,\n",
    "                    text=CLASSES[0],\n",
    "                    org=( x_label, y_label),\n",
    "                    fontFace=cv2.FONT_HERSHEY_DUPLEX,\n",
    "                    color=COLORS[0],\n",
    "                    lineType=2,\n",
    "                    fontScale=0.8, )\n",
    "        \n",
    "    if text in city_list:\n",
    "        rel_idx = df_lvl_five['text'].index[idx]\n",
    "        \n",
    "        (x, y, w, h) = (df_lvl_five['left'][rel_idx],\n",
    "                        df_lvl_five['top'][rel_idx],\n",
    "                        df_lvl_five['width'][rel_idx],\n",
    "                        df_lvl_five['height'][rel_idx])\n",
    "        cv2.rectangle(cv_img, (x, y), (x + w, y + h), COLORS[1], 2)\n",
    "        y_label = y - 15 if y - 15 > 15 else y + 15\n",
    "        x_label = x + 30 if x + 30 > 30 else x - 30\n",
    "        cv2.putText(img=cv_img,\n",
    "                    text=CLASSES[1],\n",
    "                    org=(x_label, y_label),\n",
    "                    fontFace=cv2.FONT_HERSHEY_DUPLEX,\n",
    "                    color=COLORS[1],\n",
    "                    lineType=2,\n",
    "                    fontScale=0.8, )\n",
    "        \n",
    "    if text in bic:\n",
    "        \n",
    "        rel_idx = df_lvl_five['text'].index[idx]\n",
    "        \n",
    "        (x, y, w, h) = (df_lvl_five['left'][rel_idx],\n",
    "                        df_lvl_five['top'][rel_idx],\n",
    "                        df_lvl_five['width'][rel_idx],\n",
    "                        df_lvl_five['height'][rel_idx])\n",
    "        cv2.rectangle(cv_img, (x, y), (x + w, y + h), COLORS[2], 2)\n",
    "        y_label = y - 15 if y - 15 > 15 else y + 15\n",
    "        x_label = x + 30 if x + 30 > 30 else x - 30\n",
    "        cv2.putText(img=cv_img,\n",
    "                    text=CLASSES[2],\n",
    "                    org=(x_label, y_label),\n",
    "                    fontFace=cv2.FONT_HERSHEY_DUPLEX,\n",
    "                    color=COLORS[2],\n",
    "                    lineType=2,\n",
    "                    fontScale=0.8, )\n",
    "    \n",
    "    if text in iban:\n",
    "        \n",
    "        rel_idx = df_lvl_five['text'].index[idx]\n",
    "        \n",
    "        (x, y, w, h) = (df_lvl_five['left'][rel_idx],\n",
    "                        df_lvl_five['top'][rel_idx],\n",
    "                        df_lvl_five['width'][rel_idx],\n",
    "                        df_lvl_five['height'][rel_idx])\n",
    "        cv2.rectangle(cv_img, (x, y), (x + w, y + h), COLORS[2], 2)\n",
    "        y_label = y - 15 if y - 15 > 15 else y + 15\n",
    "        x_label = x + 30 if x + 30 > 30 else x - 30\n",
    "        cv2.putText(img=cv_img,\n",
    "                    text=CLASSES[2],\n",
    "                    org=(x_label, y_label),\n",
    "                    fontFace=cv2.FONT_HERSHEY_DUPLEX,\n",
    "                    color=COLORS[2],\n",
    "                    lineType=2,\n",
    "                    fontScale=0.8, )\n",
    "        \n",
    "        \n",
    "        \n",
    "cv2.imwrite('img.jpg', cv_img)    \n",
    "\n"
   ]
  },
  {
   "cell_type": "code",
   "execution_count": 116,
   "metadata": {},
   "outputs": [
    {
     "data": {
      "text/plain": [
       "4"
      ]
     },
     "execution_count": 116,
     "metadata": {},
     "output_type": "execute_result"
    }
   ],
   "source": [
    "df_lvl_five['text'].index[idx]"
   ]
  },
  {
   "cell_type": "code",
   "execution_count": 39,
   "metadata": {},
   "outputs": [],
   "source": [
    "\n",
    "patterns = {\n",
    "        'balance_due': '\\d{1,3}(?:[.]\\d{3})*(?:[,]\\d{2})',\n",
    "        'iban': '[A-Z]{2}(?:[ ]?)[0-9]{2}(?:[ ]?[0-9]{4}){4}(?!(?:[ ]?[0-9]){3})(?:[ ]?[0-9]{1,2})?',\n",
    "        'bic': '/[A-Z]{6}[A-Z0-9]{2}([A-Z0-9]{3})?/i',\n",
    "        'town':  '\\d{3,}[ \\-\\/]+[a-zA-Z ]{3,}'\n",
    "}"
   ]
  },
  {
   "cell_type": "code",
   "execution_count": 65,
   "metadata": {},
   "outputs": [
    {
     "data": {
      "text/plain": [
       "Int64Index([  3,   9,  13,  17,  21,  25,  28,  33,  36,  41,  47,  55,  63,\n",
       "             73,  86,  92, 104, 108, 110, 112, 114, 117, 121, 126, 131, 137,\n",
       "            139, 141, 145, 156, 162, 164, 166, 168, 174, 178, 183, 188, 193,\n",
       "            196, 199],\n",
       "           dtype='int64')"
      ]
     },
     "execution_count": 65,
     "metadata": {},
     "output_type": "execute_result"
    }
   ],
   "source": [
    "df = pd.DataFrame.from_dict(d)\n",
    "level_four = df['level'] == 4\n",
    "df[level_four].index\n",
    "#df.iloc[3,9:]"
   ]
  },
  {
   "cell_type": "code",
   "execution_count": null,
   "metadata": {},
   "outputs": [],
   "source": []
  }
 ],
 "metadata": {
  "kernelspec": {
   "display_name": "Python 3",
   "language": "python",
   "name": "python3"
  },
  "language_info": {
   "codemirror_mode": {
    "name": "ipython",
    "version": 3
   },
   "file_extension": ".py",
   "mimetype": "text/x-python",
   "name": "python",
   "nbconvert_exporter": "python",
   "pygments_lexer": "ipython3",
   "version": "3.7.3"
  }
 },
 "nbformat": 4,
 "nbformat_minor": 4
}
