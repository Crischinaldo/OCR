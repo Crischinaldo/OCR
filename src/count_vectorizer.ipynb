{
 "cells": [
  {
   "cell_type": "code",
   "execution_count": 102,
   "metadata": {},
   "outputs": [],
   "source": [
    "import pytesseract\n",
    "from pytesseract import Output\n",
    "from PIL import Image\n",
    "import cv2\n",
    "import re\n",
    "import numpy as np\n",
    "from sklearn.feature_extraction.text import CountVectorizer\n",
    "import glob\n",
    "import json\n",
    "import pandas as pd\n",
    "import sklearn\n",
    "from sklearn.utils import shuffle\n",
    "import seaborn as sn\n",
    "import matplotlib.pyplot as plt\n",
    "import re, string, unicodedata\n",
    "import nltk\n",
    "# import contractions\n",
    "import inflect\n",
    "from bs4 import BeautifulSoup\n",
    "from nltk import word_tokenize, sent_tokenize\n",
    "from nltk.corpus import stopwords\n",
    "from nltk.stem import LancasterStemmer, WordNetLemmatizer\n",
    "from nltk.tokenize.treebank import TreebankWordDetokenizer, TreebankWordTokenizer\n",
    "from sklearn.naive_bayes import MultinomialNB\n",
    "from sklearn.pipeline import Pipeline\n",
    "from sklearn.decomposition import PCA\n",
    "# Import stopwords with scikit-learn"
   ]
  },
  {
   "cell_type": "code",
   "execution_count": 3,
   "metadata": {},
   "outputs": [
    {
     "name": "stderr",
     "output_type": "stream",
     "text": [
      "[nltk_data] Downloading package stopwords to\n",
      "[nltk_data]     C:\\Users\\Chrus\\AppData\\Roaming\\nltk_data...\n",
      "[nltk_data]   Package stopwords is already up-to-date!\n",
      "[nltk_data] Downloading package punkt to\n",
      "[nltk_data]     C:\\Users\\Chrus\\AppData\\Roaming\\nltk_data...\n",
      "[nltk_data]   Package punkt is already up-to-date!\n",
      "[nltk_data] Downloading package wordnet to\n",
      "[nltk_data]     C:\\Users\\Chrus\\AppData\\Roaming\\nltk_data...\n",
      "[nltk_data]   Package wordnet is already up-to-date!\n"
     ]
    },
    {
     "data": {
      "text/plain": [
       "True"
      ]
     },
     "execution_count": 3,
     "metadata": {},
     "output_type": "execute_result"
    }
   ],
   "source": [
    "# pytesseract.pytesseract.tesseract_cmd = 'C:/Program Files/Tesseract-OCR/tesseract'\n",
    "nltk.download('stopwords')\n",
    "nltk.download('punkt')\n",
    "nltk.download('wordnet')"
   ]
  },
  {
   "cell_type": "code",
   "execution_count": 3,
   "metadata": {},
   "outputs": [],
   "source": [
    "# convert all images in dir to jpg\n",
    "def to_format(ext, to_ext, inp, out, label):\n",
    "    \n",
    "    img_list = glob.glob('{dir}/*.{ext}'.format(dir=inp, ext=ext))\n",
    "    print('total amount of files: ' + str(amount))\n",
    "    for im, i in zip(img_list, range(len(img_list))):\n",
    "        \n",
    "        try:\n",
    "            im = Image.open(im)\n",
    "            im = im.convert('RGB')\n",
    "            im.save('{output}/{label}{id}.{ext}'.format(output=out, label=label, id=i, ext=to_ext))\n",
    "        \n",
    "            print(\"Status: {perc}% done.\".format(perc=str(((idx+1) / len(img_list)) * 100) + \"%\"))\n",
    "        except Exception as e:\n",
    "            print(e)\n",
    "            pass\n",
    "        \n",
    "           \n",
    "       # print(\"finished writing {percentage} percent...\".format(percentage=math.ceil((100/len(labels))*(idx+1))))"
   ]
  },
  {
   "cell_type": "code",
   "execution_count": 4,
   "metadata": {},
   "outputs": [
    {
     "ename": "NameError",
     "evalue": "name 'amount' is not defined",
     "output_type": "error",
     "traceback": [
      "\u001b[0;31m---------------------------------------------------------------------------\u001b[0m",
      "\u001b[0;31mNameError\u001b[0m                                 Traceback (most recent call last)",
      "\u001b[0;32m<ipython-input-4-ca081d54d56f>\u001b[0m in \u001b[0;36m<module>\u001b[0;34m\u001b[0m\n\u001b[0;32m----> 1\u001b[0;31m \u001b[0mto_format\u001b[0m\u001b[0;34m(\u001b[0m\u001b[0;34m'png'\u001b[0m\u001b[0;34m,\u001b[0m\u001b[0;34m'jpg'\u001b[0m\u001b[0;34m,\u001b[0m \u001b[0;34m'./data/lieferbeleg/raw'\u001b[0m\u001b[0;34m,\u001b[0m \u001b[0;34m'./data/lieferbeleg/'\u001b[0m\u001b[0;34m,\u001b[0m \u001b[0;34m'lieferbeleg'\u001b[0m\u001b[0;34m)\u001b[0m\u001b[0;34m\u001b[0m\u001b[0;34m\u001b[0m\u001b[0m\n\u001b[0m",
      "\u001b[0;32m<ipython-input-3-dfea22475052>\u001b[0m in \u001b[0;36mto_format\u001b[0;34m(ext, to_ext, inp, out, label)\u001b[0m\n\u001b[1;32m      3\u001b[0m \u001b[0;34m\u001b[0m\u001b[0m\n\u001b[1;32m      4\u001b[0m     \u001b[0mimg_list\u001b[0m \u001b[0;34m=\u001b[0m \u001b[0mglob\u001b[0m\u001b[0;34m.\u001b[0m\u001b[0mglob\u001b[0m\u001b[0;34m(\u001b[0m\u001b[0;34m'{dir}/*.{ext}'\u001b[0m\u001b[0;34m.\u001b[0m\u001b[0mformat\u001b[0m\u001b[0;34m(\u001b[0m\u001b[0mdir\u001b[0m\u001b[0;34m=\u001b[0m\u001b[0minp\u001b[0m\u001b[0;34m,\u001b[0m \u001b[0mext\u001b[0m\u001b[0;34m=\u001b[0m\u001b[0mext\u001b[0m\u001b[0;34m)\u001b[0m\u001b[0;34m)\u001b[0m\u001b[0;34m\u001b[0m\u001b[0;34m\u001b[0m\u001b[0m\n\u001b[0;32m----> 5\u001b[0;31m     \u001b[0mprint\u001b[0m\u001b[0;34m(\u001b[0m\u001b[0;34m'total amount of files: '\u001b[0m \u001b[0;34m+\u001b[0m \u001b[0mstr\u001b[0m\u001b[0;34m(\u001b[0m\u001b[0mamount\u001b[0m\u001b[0;34m)\u001b[0m\u001b[0;34m)\u001b[0m\u001b[0;34m\u001b[0m\u001b[0;34m\u001b[0m\u001b[0m\n\u001b[0m\u001b[1;32m      6\u001b[0m     \u001b[0;32mfor\u001b[0m \u001b[0mim\u001b[0m\u001b[0;34m,\u001b[0m \u001b[0mi\u001b[0m \u001b[0;32min\u001b[0m \u001b[0mzip\u001b[0m\u001b[0;34m(\u001b[0m\u001b[0mimg_list\u001b[0m\u001b[0;34m,\u001b[0m \u001b[0mrange\u001b[0m\u001b[0;34m(\u001b[0m\u001b[0mlen\u001b[0m\u001b[0;34m(\u001b[0m\u001b[0mimg_list\u001b[0m\u001b[0;34m)\u001b[0m\u001b[0;34m)\u001b[0m\u001b[0;34m)\u001b[0m\u001b[0;34m:\u001b[0m\u001b[0;34m\u001b[0m\u001b[0;34m\u001b[0m\u001b[0m\n\u001b[1;32m      7\u001b[0m \u001b[0;34m\u001b[0m\u001b[0m\n",
      "\u001b[0;31mNameError\u001b[0m: name 'amount' is not defined"
     ]
    }
   ],
   "source": [
    "to_format('png','jpg', './data/lieferbeleg/raw', './data/lieferbeleg/', 'lieferbeleg')"
   ]
  },
  {
   "cell_type": "code",
   "execution_count": 5,
   "metadata": {},
   "outputs": [],
   "source": [
    "def preprocess(im):\n",
    "    \"\"\"\n",
    "    binarize image to improve accuracy\n",
    "    \"\"\"\n",
    "    _ ,im = cv2.threshold(np.array(im),127,255,cv2.THRESH_BINARY)\n",
    "    return Image.fromarray(im)"
   ]
  },
  {
   "cell_type": "code",
   "execution_count": 6,
   "metadata": {},
   "outputs": [],
   "source": [
    "\n",
    "def extract_text(im):\n",
    "    \"\"\"\n",
    "    extract text of given image\n",
    "    :param im: image to extract text from\n",
    "    \"\"\"\n",
    "    im = Image.open(im)\n",
    "    im = preprocess(im)\n",
    "    \n",
    "    extracted = pytesseract.image_to_string(im, output_type=Output.DICT, lang='deu')\n",
    "    return extracted"
   ]
  },
  {
   "cell_type": "code",
   "execution_count": null,
   "metadata": {},
   "outputs": [],
   "source": [
    "def texts_to_list(input_dir, label):\n",
    "    \n",
    "    cap = 700\n",
    "    res = []\n",
    "    ext = \"jpg\"\n",
    "    img_list = glob.glob('{dir}/*.{ext}'.format(dir=input_dir, ext=ext))\n",
    "    print('amount files: {amount}'.format(amount = len(img_list)))\n",
    "    for im, i in zip(img_list[:cap], range(len(img_list[:cap]))):\n",
    "        \n",
    "        extracted_text = extract_text(im)\n",
    "        extracted_text['id'] = i +1\n",
    "        extracted_text['label'] = label\n",
    "        res.append(extracted_text)\n",
    "        \n",
    "        print(\"Status: {perc}% done.\".format(perc=str(((i+1) / len(img_list[:cap])) * 100) + \"%\"))\n",
    "   \n",
    "    return res"
   ]
  },
  {
   "cell_type": "code",
   "execution_count": null,
   "metadata": {},
   "outputs": [],
   "source": [
    "list_rb = texts_to_list('/Users/ct/local/rechnungsbeleg', label='invoice')"
   ]
  },
  {
   "cell_type": "code",
   "execution_count": null,
   "metadata": {},
   "outputs": [],
   "source": [
    "list_lb = texts_to_list('/Users/ct/local/lieferschein', label='delivery')"
   ]
  },
  {
   "cell_type": "code",
   "execution_count": null,
   "metadata": {},
   "outputs": [],
   "source": [
    "list_rg = texts_to_list('/Users/ct/local/regressforderung', label='regress')"
   ]
  },
  {
   "cell_type": "code",
   "execution_count": 267,
   "metadata": {},
   "outputs": [
    {
     "ename": "FileNotFoundError",
     "evalue": "[Errno 2] No such file or directory: '/Users/ct/develop/OCR/src/data/rechnungsbeleg/invoice_data.json'",
     "output_type": "error",
     "traceback": [
      "\u001b[1;31m---------------------------------------------------------------------------\u001b[0m",
      "\u001b[1;31mFileNotFoundError\u001b[0m                         Traceback (most recent call last)",
      "\u001b[1;32m<ipython-input-267-ef04d173ddaf>\u001b[0m in \u001b[0;36m<module>\u001b[1;34m\u001b[0m\n\u001b[1;32m----> 1\u001b[1;33m \u001b[1;32mwith\u001b[0m \u001b[0mopen\u001b[0m\u001b[1;33m(\u001b[0m\u001b[1;34m'/Users/ct/develop/OCR/src/data/rechnungsbeleg/invoice_data.json'\u001b[0m\u001b[1;33m,\u001b[0m \u001b[1;34m'w'\u001b[0m\u001b[1;33m)\u001b[0m \u001b[1;32mas\u001b[0m \u001b[0mfout\u001b[0m\u001b[1;33m:\u001b[0m\u001b[1;33m\u001b[0m\u001b[1;33m\u001b[0m\u001b[0m\n\u001b[0m\u001b[0;32m      2\u001b[0m     \u001b[0mjson\u001b[0m\u001b[1;33m.\u001b[0m\u001b[0mdump\u001b[0m\u001b[1;33m(\u001b[0m\u001b[0mlist_rb\u001b[0m\u001b[1;33m,\u001b[0m \u001b[0mfout\u001b[0m\u001b[1;33m)\u001b[0m\u001b[1;33m\u001b[0m\u001b[1;33m\u001b[0m\u001b[0m\n\u001b[0;32m      3\u001b[0m \u001b[1;32mwith\u001b[0m \u001b[0mopen\u001b[0m\u001b[1;33m(\u001b[0m\u001b[1;34m'/Users/ct/develop/OCR/src/data/lieferbeleg/delivery_data.json'\u001b[0m\u001b[1;33m,\u001b[0m \u001b[1;34m'w'\u001b[0m\u001b[1;33m)\u001b[0m \u001b[1;32mas\u001b[0m \u001b[0mfout\u001b[0m\u001b[1;33m:\u001b[0m\u001b[1;33m\u001b[0m\u001b[1;33m\u001b[0m\u001b[0m\n\u001b[0;32m      4\u001b[0m     \u001b[0mjson\u001b[0m\u001b[1;33m.\u001b[0m\u001b[0mdump\u001b[0m\u001b[1;33m(\u001b[0m\u001b[0mlist_lb\u001b[0m \u001b[1;33m,\u001b[0m \u001b[0mfout\u001b[0m\u001b[1;33m)\u001b[0m\u001b[1;33m\u001b[0m\u001b[1;33m\u001b[0m\u001b[0m\n\u001b[0;32m      5\u001b[0m \u001b[1;32mwith\u001b[0m \u001b[0mopen\u001b[0m\u001b[1;33m(\u001b[0m\u001b[1;34m'/Users/ct/develop/OCR/src/data/regress/regress_data.json'\u001b[0m\u001b[1;33m,\u001b[0m \u001b[1;34m'w'\u001b[0m\u001b[1;33m)\u001b[0m \u001b[1;32mas\u001b[0m \u001b[0mfout\u001b[0m\u001b[1;33m:\u001b[0m\u001b[1;33m\u001b[0m\u001b[1;33m\u001b[0m\u001b[0m\n",
      "\u001b[1;31mFileNotFoundError\u001b[0m: [Errno 2] No such file or directory: '/Users/ct/develop/OCR/src/data/rechnungsbeleg/invoice_data.json'"
     ]
    }
   ],
   "source": [
    "with open('/Users/ct/develop/OCR/src/data/rechnungsbeleg/invoice_data.json', 'w') as fout:\n",
    "    json.dump(list_rb, fout)\n",
    "with open('/Users/ct/develop/OCR/src/data/lieferbeleg/delivery_data.json', 'w') as fout:\n",
    "    json.dump(list_lb , fout)\n",
    "with open('/Users/ct/develop/OCR/src/data/regress/regress_data.json', 'w') as fout:\n",
    "    json.dump(list_rg, fout)\n"
   ]
  },
  {
   "cell_type": "code",
   "execution_count": 283,
   "metadata": {},
   "outputs": [],
   "source": [
    "import pandas as pd\n",
    "\n",
    "# read json into a dataframe\n",
    "df_inv=pd.read_json(\"./data/rechnungsbeleg/invoice_data.json\")\n",
    "# df_del=pd.read_json(\"./data/lieferbeleg/delivery_data.json\")\n",
    "df_re=pd.read_json(\"./data/regress/regress_data.json\")\n",
    "# /Users/ct/local/collective\n",
    "df = pd.concat([df_inv, df_re])\n",
    "df = shuffle(df)"
   ]
  },
  {
   "cell_type": "code",
   "execution_count": 284,
   "metadata": {},
   "outputs": [
    {
     "name": "stdout",
     "output_type": "stream",
     "text": [
      "1. special\n",
      "1. punct\n",
      "tokenize\n",
      "lower case\n",
      "stemming\n",
      "lemma\n"
     ]
    }
   ],
   "source": [
    "# normalization\n",
    "\n",
    "stemmer = LancasterStemmer()\n",
    "lemmatizer = WordNetLemmatizer()\n",
    "p = inflect.engine()\n",
    "\n",
    "def normalize(df):\n",
    "    # remove special characters\n",
    "    df['text'].apply(lambda x: re.sub(\"(\\\\W)+\",\" \",x))\n",
    "    print('1. special')\n",
    "    # remove punctuation\n",
    "    df['text'].apply(lambda x: re.sub(r'[^\\w\\s]', '', x)) \n",
    "    print('1. punct')\n",
    "    # tokenize \n",
    "    df['text'].apply(lambda x:nltk.word_tokenize(x))\n",
    "    print('tokenize')\n",
    "    # to lower case\n",
    "    df['text'].apply(lambda x: [word.lower() for word in x])    \n",
    "    print('lower case')\n",
    "\n",
    "#    df['text'].apply(lambda x: [item for item in x if item not in new_stopwords_list])\n",
    "#    print('filter')\n",
    "    \n",
    "\n",
    "    # stemming\n",
    "    df['text'].apply(lambda x: [stemmer.stem(word) for word in x])  \n",
    "    print('stemming')\n",
    "    # lemmatizing\n",
    "    df['text'].apply(lambda x: [lemmatizer.lemmatize(word, pos='v') for word in x])    \n",
    "    print('lemma')\n",
    "\n",
    "normalize(df)  "
   ]
  },
  {
   "cell_type": "code",
   "execution_count": 285,
   "metadata": {},
   "outputs": [],
   "source": [
    "from sklearn.model_selection import train_test_split \n",
    "\n",
    "X_train, X_test, y_train, y_test = train_test_split(df['text'], df['label'], test_size=0.2, random_state=0)\n"
   ]
  },
  {
   "cell_type": "code",
   "execution_count": 286,
   "metadata": {},
   "outputs": [],
   "source": [
    "def dummy(doc):\n",
    "    return doc\n",
    "# create a count vectorizer object disable preprocessing and tokenizing \n",
    "# the count vector counts all appearences of every word\n",
    "\n",
    "#add words that aren't in the NLTK stopwords list\n",
    "# filter stopwords\n",
    "stop_words = set(stopwords.words(\"german\"))\n",
    "additional_stopwords = ['ok', 'a', 'e', 'm', 'de', 'd', 'hub', 'co', 'www',\n",
    "                       'ag', 'i', 'x', '2016', '2015', '2014', 'gmbh', 'eda', 'uhr', 'homberg']\n",
    "\n",
    "new_stopwords_list = stop_words.union(additional_stopwords)\n",
    "token_pattern = token_pattern=r'\\b[^\\d\\W]+\\b'\n",
    "count_vect = CountVectorizer(stop_words = new_stopwords_list, token_pattern=token_pattern)\n",
    "from sklearn.feature_extraction import text \n",
    "docs = count_vect.fit_transform(X_train)\n"
   ]
  },
  {
   "cell_type": "code",
   "execution_count": 287,
   "metadata": {},
   "outputs": [
    {
     "data": {
      "text/plain": [
       "<1120x16767 sparse matrix of type '<class 'numpy.int64'>'\n",
       "\twith 109413 stored elements in Compressed Sparse Row format>"
      ]
     },
     "execution_count": 287,
     "metadata": {},
     "output_type": "execute_result"
    }
   ],
   "source": [
    "docs "
   ]
  },
  {
   "cell_type": "code",
   "execution_count": 288,
   "metadata": {},
   "outputs": [
    {
     "data": {
      "image/png": "[encoded data removed]",
      "text/plain": [
       "<Figure size 576x396 with 1 Axes>"
      ]
     },
     "metadata": {},
     "output_type": "display_data"
    },
    {
     "data": {
      "text/plain": [
       "<matplotlib.axes._subplots.AxesSubplot at 0x1c784f25550>"
      ]
     },
     "execution_count": 288,
     "metadata": {},
     "output_type": "execute_result"
    }
   ],
   "source": [
    "from yellowbrick.text import FreqDistVisualizer\n",
    "\n",
    "features = count_vect.get_feature_names()\n",
    "visualizer = FreqDistVisualizer(features=features)\n",
    "visualizer.fit(docs)\n",
    "visualizer.poof()"
   ]
  },
  {
   "cell_type": "code",
   "execution_count": 289,
   "metadata": {},
   "outputs": [
    {
     "data": {
      "text/plain": [
       "(1120, 16767)"
      ]
     },
     "execution_count": 289,
     "metadata": {},
     "output_type": "execute_result"
    }
   ],
   "source": [
    "from sklearn.feature_extraction.text import TfidfTransformer\n",
    "\n",
    "tfidf_transformer = TfidfTransformer()\n",
    "X_train_tfidf = tfidf_transformer.fit_transform(docs)\n",
    "X_train_tfidf.shape"
   ]
  },
  {
   "cell_type": "code",
   "execution_count": 290,
   "metadata": {},
   "outputs": [],
   "source": [
    "clf = MultinomialNB().fit(X_train_tfidf, y_train)"
   ]
  },
  {
   "cell_type": "code",
   "execution_count": 291,
   "metadata": {},
   "outputs": [],
   "source": [
    "\n",
    "text_clf = Pipeline([('vect', CountVectorizer()),\n",
    "                     ('tfidf', TfidfTransformer()),\n",
    "                     ('clf', MultinomialNB()),\n",
    "])\n",
    "#count_vec = CountVectorizer()\n",
    "#tfidf_transformer = TfidfTransformer()\n",
    "\n",
    "#clf = MultinomialNB().fit(X_train_tfidf, y_train)\n",
    "\n",
    "\n",
    "text_clf = text_clf.fit(X_train, y_train)"
   ]
  },
  {
   "cell_type": "code",
   "execution_count": 292,
   "metadata": {},
   "outputs": [
    {
     "name": "stdout",
     "output_type": "stream",
     "text": [
      "              precision    recall  f1-score   support\n",
      "\n",
      "     invoice       0.99      1.00      0.99       143\n",
      "     regress       1.00      0.99      0.99       137\n",
      "\n",
      "    accuracy                           0.99       280\n",
      "   macro avg       0.99      0.99      0.99       280\n",
      "weighted avg       0.99      0.99      0.99       280\n",
      "\n"
     ]
    }
   ],
   "source": [
    "from sklearn.metrics import classification_report\n",
    "from sklearn.metrics import confusion_matrix\n",
    "from sklearn.model_selection import cross_val_score, cross_val_predict\n",
    "from sklearn import metrics\n",
    "\n",
    "predicted = text_clf.predict(X_test)\n",
    "predicted\n",
    "np.mean(predicted == y_test)\n",
    "from sklearn.metrics import classification_report\n",
    "y_pred = text_clf.predict(X_test)\n",
    "print(classification_report(y_test, y_pred))"
   ]
  },
  {
   "cell_type": "code",
   "execution_count": 293,
   "metadata": {},
   "outputs": [
    {
     "data": {
      "text/plain": [
       "array([0.9787234, 0.9787234, 0.9787234, 0.9787234, 1.       , 1.       ])"
      ]
     },
     "execution_count": 293,
     "metadata": {},
     "output_type": "execute_result"
    }
   ],
   "source": [
    "scores = cross_val_score(text_clf, X_test, y_test, cv=6)\n",
    "predictions = cross_val_predict(text_clf, X_test, y_test, cv=6)\n",
    "scores"
   ]
  },
  {
   "cell_type": "code",
   "execution_count": 294,
   "metadata": {},
   "outputs": [
    {
     "data": {
      "text/plain": [
       "array([[143,   0],\n",
       "       [  4, 133]], dtype=int64)"
      ]
     },
     "execution_count": 294,
     "metadata": {},
     "output_type": "execute_result"
    }
   ],
   "source": [
    "from sklearn.metrics import confusion_matrix\n",
    "confusion_matrix(y_test, predictions, labels=[\"invoice\", \"regress\"])"
   ]
  },
  {
   "cell_type": "code",
   "execution_count": 295,
   "metadata": {},
   "outputs": [
    {
     "data": {
      "text/plain": [
       "array([0.9787234, 0.9787234, 0.9787234, 0.9787234, 1.       , 1.       ])"
      ]
     },
     "execution_count": 295,
     "metadata": {},
     "output_type": "execute_result"
    }
   ],
   "source": [
    "scores = cross_val_score(text_clf, X_test, y_test, cv=6)\n",
    "predictions = cross_val_predict(text_clf, X_test, y_test, cv=6)\n",
    "scores"
   ]
  },
  {
   "cell_type": "code",
   "execution_count": 296,
   "metadata": {},
   "outputs": [
    {
     "name": "stdout",
     "output_type": "stream",
     "text": [
      "Accuracy: 0.99 (+/- 0.02)\n"
     ]
    }
   ],
   "source": [
    "print(\"Accuracy: %0.2f (+/- %0.2f)\" % (scores.mean(), scores.std() * 2))"
   ]
  },
  {
   "cell_type": "code",
   "execution_count": 297,
   "metadata": {},
   "outputs": [
    {
     "name": "stdout",
     "output_type": "stream",
     "text": [
      "0.9928571428571429\n"
     ]
    }
   ],
   "source": [
    "# save the model to disk\n",
    "import joblib\n",
    "\n",
    "filename = 'text_clf.sav'\n",
    "joblib.dump(text_clf, filename)\n",
    "\n",
    "\n",
    "# load the model from disk\n",
    "loaded_model = joblib.load(filename)\n",
    "result = loaded_model.score(X_test, y_test)\n",
    "print(result)"
   ]
  },
  {
   "cell_type": "code",
   "execution_count": null,
   "metadata": {},
   "outputs": [],
   "source": []
  }
 ],
 "metadata": {
  "kernelspec": {
   "display_name": "Python 3",
   "language": "python",
   "name": "python3"
  },
  "language_info": {
   "codemirror_mode": {
    "name": "ipython",
    "version": 3
   },
   "file_extension": ".py",
   "mimetype": "text/x-python",
   "name": "python",
   "nbconvert_exporter": "python",
   "pygments_lexer": "ipython3",
   "version": "3.7.3"
  }
 },
 "nbformat": 4,
 "nbformat_minor": 4
}
